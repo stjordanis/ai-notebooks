{
 "cells": [
  {
   "cell_type": "code",
   "execution_count": 1,
   "metadata": {},
   "outputs": [
    {
     "name": "stdout",
     "output_type": "stream",
     "text": [
      "Populating the interactive namespace from numpy and matplotlib\n"
     ]
    }
   ],
   "source": [
    "# see https://www.beerfestboots.com/fuck-the-dealer-rules\n",
    "%pylab inline\n",
    "import random"
   ]
  },
  {
   "cell_type": "code",
   "execution_count": 2,
   "metadata": {},
   "outputs": [],
   "source": [
    "def multimode(x):\n",
    "    if len(x) == 0:\n",
    "        return []\n",
    "    mx = max(x)\n",
    "    return list(filter(lambda i: x[i] == mx, range(len(x))))\n",
    "\n",
    "# return a pivot, a high, and a low\n",
    "def get_player_move(remain):\n",
    "    # guess the median for the pivot\n",
    "    cc = []\n",
    "    for i,r in enumerate(remain):\n",
    "        if r != 0:\n",
    "            cc += [i]*r\n",
    "    p = sorted(cc)[len(cc)//2]\n",
    "    \n",
    "    # guess a mode for the final guesses\n",
    "    cl = multimode(remain[0:p])\n",
    "    ch = [x+p+1 for x in multimode(remain[p+1:])]\n",
    "    if len(cl) == 0:\n",
    "        cl = [None]\n",
    "    if len(ch) == 0:\n",
    "        ch = [None]\n",
    "    #print(cl, ch)\n",
    "    \n",
    "    return p, random.choice(cl), random.choice(ch)"
   ]
  },
  {
   "cell_type": "code",
   "execution_count": 42,
   "metadata": {},
   "outputs": [
    {
     "data": {
      "text/plain": [
       "([6, 7, 43, 30, 3, 4, 1, 5, 8, 9, 4, 6, 2, 4, 3], 3, 3)"
      ]
     },
     "execution_count": 42,
     "metadata": {},
     "output_type": "execute_result"
    }
   ],
   "source": [
    "NUM_PLAYERS = 15\n",
    "\n",
    "def simulate():\n",
    "    deck = []\n",
    "    for suits in range(4):\n",
    "        for cards in range(13):\n",
    "            # suits don't matter\n",
    "            deck.append(cards)\n",
    "    random.shuffle(deck)\n",
    "\n",
    "    # initial\n",
    "    dealer_num = 0\n",
    "    dealer_count = 0\n",
    "    player_num = 1\n",
    "\n",
    "    remain = [4]*13\n",
    "    drinks = [0]*NUM_PLAYERS\n",
    "\n",
    "    last_correct = 0\n",
    "\n",
    "    while len(deck) != 0:\n",
    "        mc = deck.pop()\n",
    "\n",
    "        # player strategy in that function\n",
    "        p,l,h = get_player_move(remain)\n",
    "        pg = l if mc < p else h\n",
    "        if mc == p:\n",
    "            drinks[dealer_num] += 4\n",
    "            last_correct = 0\n",
    "        elif mc == pg:\n",
    "            # lower\n",
    "            drinks[dealer_num] += 2\n",
    "            last_correct = 0\n",
    "        else:\n",
    "            # miss\n",
    "            drinks[player_num] += abs(pg - mc)\n",
    "            last_correct += 1\n",
    "\n",
    "        if last_correct == 3:\n",
    "            # dealer advance\n",
    "            dealer_num += 1\n",
    "            dealer_num %= NUM_PLAYERS\n",
    "            last_correct = 0\n",
    "            dealer_count += 1\n",
    "\n",
    "        # advance player\n",
    "        player_num += 1\n",
    "        if player_num == dealer_num:\n",
    "            player_num += 1\n",
    "        player_num %= NUM_PLAYERS\n",
    "\n",
    "        # \n",
    "        remain[mc] -= 1\n",
    "    \n",
    "    return drinks, dealer_num, dealer_count\n",
    "\n",
    "simulate()"
   ]
  },
  {
   "cell_type": "code",
   "execution_count": 43,
   "metadata": {},
   "outputs": [],
   "source": [
    "SIM_COUNT = 1000\n",
    "adn = []\n",
    "add = np.array([0]*NUM_PLAYERS)\n",
    "dc = np.array([0]*NUM_PLAYERS)\n",
    "for i in range(SIM_COUNT):\n",
    "    drinks, dealer_num, dealer_count = simulate()\n",
    "    adn.append(dealer_count)\n",
    "    add[dealer_num] += 1\n",
    "    dc += drinks\n",
    "add //= (SIM_COUNT//400)\n",
    "dc //= SIM_COUNT"
   ]
  },
  {
   "cell_type": "code",
   "execution_count": 44,
   "metadata": {},
   "outputs": [
    {
     "data": {
      "text/plain": [
       "6.139"
      ]
     },
     "execution_count": 44,
     "metadata": {},
     "output_type": "execute_result"
    },
    {
     "data": {
      "image/png": "[encoded data removed]",
      "text/plain": [
       "<Figure size 864x864 with 1 Axes>"
      ]
     },
     "metadata": {
      "needs_background": "light"
     },
     "output_type": "display_data"
    }
   ],
   "source": [
    "figsize(12,12)\n",
    "plt.bar(range(len(add)), add)\n",
    "plt.bar(range(len(dc)), dc)\n",
    "np.mean(adn)"
   ]
  },
  {
   "cell_type": "code",
   "execution_count": null,
   "metadata": {},
   "outputs": [],
   "source": []
  }
 ],
 "metadata": {
  "kernelspec": {
   "display_name": "Python 3",
   "language": "python",
   "name": "python3"
  },
  "language_info": {
   "codemirror_mode": {
    "name": "ipython",
    "version": 3
   },
   "file_extension": ".py",
   "mimetype": "text/x-python",
   "name": "python",
   "nbconvert_exporter": "python",
   "pygments_lexer": "ipython3",
   "version": "3.7.5"
  }
 },
 "nbformat": 4,
 "nbformat_minor": 2
}
